{
  "nbformat": 4,
  "nbformat_minor": 0,
  "metadata": {
    "kernelspec": {
      "display_name": "Python 3",
      "language": "python",
      "name": "python3"
    },
    "language_info": {
      "codemirror_mode": {
        "name": "ipython",
        "version": 3
      },
      "file_extension": ".py",
      "mimetype": "text/x-python",
      "name": "python",
      "nbconvert_exporter": "python",
      "pygments_lexer": "ipython3",
      "version": "3.7.6"
    },
    "colab": {
      "name": "ml_assignment_3.ipynb",
      "provenance": []
    }
  },
  "cells": [
    {
      "cell_type": "code",
      "metadata": {
        "colab": {
          "base_uri": "https://localhost:8080/"
        },
        "id": "j4m1sDTvY6P5",
        "outputId": "f317a5fb-bd50-424c-d138-cc01855ed401"
      },
      "source": [
        "import pandas as pd\n",
        "import numpy as np\n",
        "from sklearn.cluster import KMeans, DBSCAN\n",
        "from sklearn import metrics\n",
        "from scipy.spatial.distance import cdist\n",
        "import matplotlib.pyplot as plt\n",
        "from sklearn.manifold import TSNE\n",
        "\n",
        "!pip install sklearn_som\n",
        "from sklearn_som.som import SOM\n",
        "\n",
        "import plotly.express as px\n",
        "import plotly.graph_objects as go"
      ],
      "execution_count": 7,
      "outputs": [
        {
          "output_type": "stream",
          "text": [
            "Requirement already satisfied: sklearn_som in /usr/local/lib/python3.7/dist-packages (1.0.1)\n",
            "Requirement already satisfied: numpy in /usr/local/lib/python3.7/dist-packages (from sklearn_som) (1.19.5)\n"
          ],
          "name": "stdout"
        }
      ]
    },
    {
      "cell_type": "code",
      "metadata": {
        "id": "W2JKuJiMY6QB"
      },
      "source": [
        "df = pd.read_csv('Pokemon.csv')"
      ],
      "execution_count": 8,
      "outputs": []
    },
    {
      "cell_type": "code",
      "metadata": {
        "colab": {
          "base_uri": "https://localhost:8080/",
          "height": 383
        },
        "id": "tRRr4s6uY6QC",
        "outputId": "1a9043d3-683c-4bd4-ee46-683acac1767b"
      },
      "source": [
        "df.head(10)"
      ],
      "execution_count": 9,
      "outputs": [
        {
          "output_type": "execute_result",
          "data": {
            "text/html": [
              "<div>\n",
              "<style scoped>\n",
              "    .dataframe tbody tr th:only-of-type {\n",
              "        vertical-align: middle;\n",
              "    }\n",
              "\n",
              "    .dataframe tbody tr th {\n",
              "        vertical-align: top;\n",
              "    }\n",
              "\n",
              "    .dataframe thead th {\n",
              "        text-align: right;\n",
              "    }\n",
              "</style>\n",
              "<table border=\"1\" class=\"dataframe\">\n",
              "  <thead>\n",
              "    <tr style=\"text-align: right;\">\n",
              "      <th></th>\n",
              "      <th>against_bug</th>\n",
              "      <th>against_dark</th>\n",
              "      <th>against_dragon</th>\n",
              "      <th>against_electric</th>\n",
              "      <th>against_fairy</th>\n",
              "      <th>against_fight</th>\n",
              "      <th>against_fire</th>\n",
              "      <th>against_flying</th>\n",
              "      <th>against_ghost</th>\n",
              "      <th>against_grass</th>\n",
              "      <th>against_ground</th>\n",
              "      <th>against_ice</th>\n",
              "      <th>against_normal</th>\n",
              "      <th>against_poison</th>\n",
              "      <th>against_psychic</th>\n",
              "      <th>against_rock</th>\n",
              "      <th>against_steel</th>\n",
              "      <th>against_water</th>\n",
              "      <th>attack</th>\n",
              "      <th>base_egg_steps</th>\n",
              "      <th>type1</th>\n",
              "    </tr>\n",
              "  </thead>\n",
              "  <tbody>\n",
              "    <tr>\n",
              "      <th>0</th>\n",
              "      <td>1.00</td>\n",
              "      <td>1.0</td>\n",
              "      <td>1.0</td>\n",
              "      <td>0.5</td>\n",
              "      <td>0.5</td>\n",
              "      <td>0.5</td>\n",
              "      <td>2.0</td>\n",
              "      <td>2.0</td>\n",
              "      <td>1.0</td>\n",
              "      <td>0.25</td>\n",
              "      <td>1.0</td>\n",
              "      <td>2.0</td>\n",
              "      <td>1.0</td>\n",
              "      <td>1.0</td>\n",
              "      <td>2.0</td>\n",
              "      <td>1.0</td>\n",
              "      <td>1.0</td>\n",
              "      <td>0.5</td>\n",
              "      <td>49</td>\n",
              "      <td>5120</td>\n",
              "      <td>grass</td>\n",
              "    </tr>\n",
              "    <tr>\n",
              "      <th>1</th>\n",
              "      <td>1.00</td>\n",
              "      <td>1.0</td>\n",
              "      <td>1.0</td>\n",
              "      <td>0.5</td>\n",
              "      <td>0.5</td>\n",
              "      <td>0.5</td>\n",
              "      <td>2.0</td>\n",
              "      <td>2.0</td>\n",
              "      <td>1.0</td>\n",
              "      <td>0.25</td>\n",
              "      <td>1.0</td>\n",
              "      <td>2.0</td>\n",
              "      <td>1.0</td>\n",
              "      <td>1.0</td>\n",
              "      <td>2.0</td>\n",
              "      <td>1.0</td>\n",
              "      <td>1.0</td>\n",
              "      <td>0.5</td>\n",
              "      <td>62</td>\n",
              "      <td>5120</td>\n",
              "      <td>grass</td>\n",
              "    </tr>\n",
              "    <tr>\n",
              "      <th>2</th>\n",
              "      <td>1.00</td>\n",
              "      <td>1.0</td>\n",
              "      <td>1.0</td>\n",
              "      <td>0.5</td>\n",
              "      <td>0.5</td>\n",
              "      <td>0.5</td>\n",
              "      <td>2.0</td>\n",
              "      <td>2.0</td>\n",
              "      <td>1.0</td>\n",
              "      <td>0.25</td>\n",
              "      <td>1.0</td>\n",
              "      <td>2.0</td>\n",
              "      <td>1.0</td>\n",
              "      <td>1.0</td>\n",
              "      <td>2.0</td>\n",
              "      <td>1.0</td>\n",
              "      <td>1.0</td>\n",
              "      <td>0.5</td>\n",
              "      <td>100</td>\n",
              "      <td>5120</td>\n",
              "      <td>grass</td>\n",
              "    </tr>\n",
              "    <tr>\n",
              "      <th>3</th>\n",
              "      <td>0.50</td>\n",
              "      <td>1.0</td>\n",
              "      <td>1.0</td>\n",
              "      <td>1.0</td>\n",
              "      <td>0.5</td>\n",
              "      <td>1.0</td>\n",
              "      <td>0.5</td>\n",
              "      <td>1.0</td>\n",
              "      <td>1.0</td>\n",
              "      <td>0.50</td>\n",
              "      <td>2.0</td>\n",
              "      <td>0.5</td>\n",
              "      <td>1.0</td>\n",
              "      <td>1.0</td>\n",
              "      <td>1.0</td>\n",
              "      <td>2.0</td>\n",
              "      <td>0.5</td>\n",
              "      <td>2.0</td>\n",
              "      <td>52</td>\n",
              "      <td>5120</td>\n",
              "      <td>fire</td>\n",
              "    </tr>\n",
              "    <tr>\n",
              "      <th>4</th>\n",
              "      <td>0.50</td>\n",
              "      <td>1.0</td>\n",
              "      <td>1.0</td>\n",
              "      <td>1.0</td>\n",
              "      <td>0.5</td>\n",
              "      <td>1.0</td>\n",
              "      <td>0.5</td>\n",
              "      <td>1.0</td>\n",
              "      <td>1.0</td>\n",
              "      <td>0.50</td>\n",
              "      <td>2.0</td>\n",
              "      <td>0.5</td>\n",
              "      <td>1.0</td>\n",
              "      <td>1.0</td>\n",
              "      <td>1.0</td>\n",
              "      <td>2.0</td>\n",
              "      <td>0.5</td>\n",
              "      <td>2.0</td>\n",
              "      <td>64</td>\n",
              "      <td>5120</td>\n",
              "      <td>fire</td>\n",
              "    </tr>\n",
              "    <tr>\n",
              "      <th>5</th>\n",
              "      <td>0.25</td>\n",
              "      <td>1.0</td>\n",
              "      <td>1.0</td>\n",
              "      <td>2.0</td>\n",
              "      <td>0.5</td>\n",
              "      <td>0.5</td>\n",
              "      <td>0.5</td>\n",
              "      <td>1.0</td>\n",
              "      <td>1.0</td>\n",
              "      <td>0.25</td>\n",
              "      <td>0.0</td>\n",
              "      <td>1.0</td>\n",
              "      <td>1.0</td>\n",
              "      <td>1.0</td>\n",
              "      <td>1.0</td>\n",
              "      <td>4.0</td>\n",
              "      <td>0.5</td>\n",
              "      <td>2.0</td>\n",
              "      <td>104</td>\n",
              "      <td>5120</td>\n",
              "      <td>fire</td>\n",
              "    </tr>\n",
              "    <tr>\n",
              "      <th>6</th>\n",
              "      <td>1.00</td>\n",
              "      <td>1.0</td>\n",
              "      <td>1.0</td>\n",
              "      <td>2.0</td>\n",
              "      <td>1.0</td>\n",
              "      <td>1.0</td>\n",
              "      <td>0.5</td>\n",
              "      <td>1.0</td>\n",
              "      <td>1.0</td>\n",
              "      <td>2.00</td>\n",
              "      <td>1.0</td>\n",
              "      <td>0.5</td>\n",
              "      <td>1.0</td>\n",
              "      <td>1.0</td>\n",
              "      <td>1.0</td>\n",
              "      <td>1.0</td>\n",
              "      <td>0.5</td>\n",
              "      <td>0.5</td>\n",
              "      <td>48</td>\n",
              "      <td>5120</td>\n",
              "      <td>water</td>\n",
              "    </tr>\n",
              "    <tr>\n",
              "      <th>7</th>\n",
              "      <td>1.00</td>\n",
              "      <td>1.0</td>\n",
              "      <td>1.0</td>\n",
              "      <td>2.0</td>\n",
              "      <td>1.0</td>\n",
              "      <td>1.0</td>\n",
              "      <td>0.5</td>\n",
              "      <td>1.0</td>\n",
              "      <td>1.0</td>\n",
              "      <td>2.00</td>\n",
              "      <td>1.0</td>\n",
              "      <td>0.5</td>\n",
              "      <td>1.0</td>\n",
              "      <td>1.0</td>\n",
              "      <td>1.0</td>\n",
              "      <td>1.0</td>\n",
              "      <td>0.5</td>\n",
              "      <td>0.5</td>\n",
              "      <td>63</td>\n",
              "      <td>5120</td>\n",
              "      <td>water</td>\n",
              "    </tr>\n",
              "    <tr>\n",
              "      <th>8</th>\n",
              "      <td>1.00</td>\n",
              "      <td>1.0</td>\n",
              "      <td>1.0</td>\n",
              "      <td>2.0</td>\n",
              "      <td>1.0</td>\n",
              "      <td>1.0</td>\n",
              "      <td>0.5</td>\n",
              "      <td>1.0</td>\n",
              "      <td>1.0</td>\n",
              "      <td>2.00</td>\n",
              "      <td>1.0</td>\n",
              "      <td>0.5</td>\n",
              "      <td>1.0</td>\n",
              "      <td>1.0</td>\n",
              "      <td>1.0</td>\n",
              "      <td>1.0</td>\n",
              "      <td>0.5</td>\n",
              "      <td>0.5</td>\n",
              "      <td>103</td>\n",
              "      <td>5120</td>\n",
              "      <td>water</td>\n",
              "    </tr>\n",
              "    <tr>\n",
              "      <th>9</th>\n",
              "      <td>1.00</td>\n",
              "      <td>1.0</td>\n",
              "      <td>1.0</td>\n",
              "      <td>1.0</td>\n",
              "      <td>1.0</td>\n",
              "      <td>0.5</td>\n",
              "      <td>2.0</td>\n",
              "      <td>2.0</td>\n",
              "      <td>1.0</td>\n",
              "      <td>0.50</td>\n",
              "      <td>0.5</td>\n",
              "      <td>1.0</td>\n",
              "      <td>1.0</td>\n",
              "      <td>1.0</td>\n",
              "      <td>1.0</td>\n",
              "      <td>2.0</td>\n",
              "      <td>1.0</td>\n",
              "      <td>1.0</td>\n",
              "      <td>30</td>\n",
              "      <td>3840</td>\n",
              "      <td>bug</td>\n",
              "    </tr>\n",
              "  </tbody>\n",
              "</table>\n",
              "</div>"
            ],
            "text/plain": [
              "   against_bug  against_dark  against_dragon  ...  attack  base_egg_steps  type1\n",
              "0         1.00           1.0             1.0  ...      49            5120  grass\n",
              "1         1.00           1.0             1.0  ...      62            5120  grass\n",
              "2         1.00           1.0             1.0  ...     100            5120  grass\n",
              "3         0.50           1.0             1.0  ...      52            5120   fire\n",
              "4         0.50           1.0             1.0  ...      64            5120   fire\n",
              "5         0.25           1.0             1.0  ...     104            5120   fire\n",
              "6         1.00           1.0             1.0  ...      48            5120  water\n",
              "7         1.00           1.0             1.0  ...      63            5120  water\n",
              "8         1.00           1.0             1.0  ...     103            5120  water\n",
              "9         1.00           1.0             1.0  ...      30            3840    bug\n",
              "\n",
              "[10 rows x 21 columns]"
            ]
          },
          "metadata": {
            "tags": []
          },
          "execution_count": 9
        }
      ]
    },
    {
      "cell_type": "code",
      "metadata": {
        "colab": {
          "base_uri": "https://localhost:8080/"
        },
        "id": "WsDBFdBOY6QG",
        "outputId": "bf9e0ca8-5eba-42ef-93d1-a3b6d51c7706"
      },
      "source": [
        "df.info()"
      ],
      "execution_count": 10,
      "outputs": [
        {
          "output_type": "stream",
          "text": [
            "<class 'pandas.core.frame.DataFrame'>\n",
            "RangeIndex: 600 entries, 0 to 599\n",
            "Data columns (total 21 columns):\n",
            " #   Column            Non-Null Count  Dtype  \n",
            "---  ------            --------------  -----  \n",
            " 0   against_bug       600 non-null    float64\n",
            " 1   against_dark      600 non-null    float64\n",
            " 2   against_dragon    600 non-null    float64\n",
            " 3   against_electric  600 non-null    float64\n",
            " 4   against_fairy     600 non-null    float64\n",
            " 5   against_fight     600 non-null    float64\n",
            " 6   against_fire      600 non-null    float64\n",
            " 7   against_flying    600 non-null    float64\n",
            " 8   against_ghost     600 non-null    float64\n",
            " 9   against_grass     600 non-null    float64\n",
            " 10  against_ground    600 non-null    float64\n",
            " 11  against_ice       600 non-null    float64\n",
            " 12  against_normal    600 non-null    float64\n",
            " 13  against_poison    600 non-null    float64\n",
            " 14  against_psychic   600 non-null    float64\n",
            " 15  against_rock      600 non-null    float64\n",
            " 16  against_steel     600 non-null    float64\n",
            " 17  against_water     600 non-null    float64\n",
            " 18  attack            600 non-null    int64  \n",
            " 19  base_egg_steps    600 non-null    int64  \n",
            " 20  type1             600 non-null    object \n",
            "dtypes: float64(18), int64(2), object(1)\n",
            "memory usage: 98.6+ KB\n"
          ],
          "name": "stdout"
        }
      ]
    },
    {
      "cell_type": "code",
      "metadata": {
        "id": "2ZH7pfWIY6QH"
      },
      "source": [
        "# replace string classes with a numeric value \n",
        "classes = list(df['type1'].unique())\n",
        "y = np.empty(df['type1'].shape, np.int16)\n",
        "for c in classes:\n",
        "    y[df['type1'] == c] = classes.index(c)\n",
        "# End for\n",
        "df['type1'] = y\n",
        "df['type1'] = df['type1'].astype(int)"
      ],
      "execution_count": 11,
      "outputs": []
    },
    {
      "cell_type": "code",
      "metadata": {
        "id": "JwJefuooY6QJ"
      },
      "source": [
        "X = df.to_numpy()[:, :-1]"
      ],
      "execution_count": 12,
      "outputs": []
    },
    {
      "cell_type": "code",
      "metadata": {
        "id": "cTAKXDHjY6QJ"
      },
      "source": [
        "def getTrueLabel(y_pred, y_actual):\n",
        "    clusters = np.unique(y_pred)\n",
        "    true_labels = np.empty(y_pred.shape, np.int16)\n",
        "    mapper = dict()\n",
        "    for c in clusters:\n",
        "        yTemp = y_actual[c == y_pred]\n",
        "        labels, counts= np.unique(yTemp, return_counts=True)\n",
        "        mapper[c] = labels[np.argmax(counts)]\n",
        "    # End Of For\n",
        "    for key, val in mapper.items():\n",
        "        true_labels[y_pred == key] = val\n",
        "    # End Of For\n",
        "    return true_labels\n",
        "# End Of Function"
      ],
      "execution_count": 13,
      "outputs": []
    },
    {
      "cell_type": "markdown",
      "metadata": {
        "id": "GC3rl66yY6QK"
      },
      "source": [
        "## Choose K-Means with Elbow Method"
      ]
    },
    {
      "cell_type": "code",
      "metadata": {
        "colab": {
          "base_uri": "https://localhost:8080/",
          "height": 315
        },
        "id": "3h2l3zWiY6QM",
        "outputId": "6fda5608-0f6a-476c-91ec-df23e8caf678"
      },
      "source": [
        "# get the best K\n",
        "wcss = []\n",
        "for i in range(1, 11):\n",
        "    kmeans = KMeans(n_clusters=i, init='k-means++', max_iter=100, n_init=1, random_state=69)\n",
        "    kmeans.fit(X)\n",
        "    wcss.append(kmeans.inertia_)\n",
        "# End of for\n",
        "\n",
        "plt.plot(range(1, 11), wcss)\n",
        "plt.title('The Elbow Method')\n",
        "plt.xlabel('Number of clusters')\n",
        "plt.ylabel('WCSS')"
      ],
      "execution_count": 14,
      "outputs": [
        {
          "output_type": "execute_result",
          "data": {
            "text/plain": [
              "Text(0, 0.5, 'WCSS')"
            ]
          },
          "metadata": {
            "tags": []
          },
          "execution_count": 14
        },
        {
          "output_type": "display_data",
          "data": {
            "image/png": "[encoded data removed]",
            "text/plain": [
              "<Figure size 432x288 with 1 Axes>"
            ]
          },
          "metadata": {
            "tags": [],
            "needs_background": "light"
          }
        }
      ]
    },
    {
      "cell_type": "code",
      "metadata": {
        "colab": {
          "base_uri": "https://localhost:8080/"
        },
        "id": "s1Aiwj4VY6QO",
        "outputId": "350a9770-5a5a-4b37-c1f6-5619e7466276"
      },
      "source": [
        "best_k = 5\n",
        "kmeans = KMeans(n_clusters=best_k)\n",
        "y_predict = kmeans.fit_predict(X)\n",
        "y_clusters = getTrueLabel(y_predict, y)\n",
        "print(\"Silhouette Coefficient:\", metrics.silhouette_score(X, y_predict))\n",
        "print(\"Accuracy:\", metrics.accuracy_score(y_clusters, y))"
      ],
      "execution_count": 15,
      "outputs": [
        {
          "output_type": "stream",
          "text": [
            "Silhouette Coefficient: 0.8175319164893884\n",
            "Accuracy: 0.23833333333333334\n"
          ],
          "name": "stdout"
        }
      ]
    },
    {
      "cell_type": "markdown",
      "metadata": {
        "id": "wDrrcBgOY6QQ"
      },
      "source": [
        "## TSNE"
      ]
    },
    {
      "cell_type": "code",
      "metadata": {
        "id": "R-vvceZ0Y6QS"
      },
      "source": [
        "X_reduced = TSNE(n_components=2, random_state=123).fit_transform(X)"
      ],
      "execution_count": 16,
      "outputs": []
    },
    {
      "cell_type": "markdown",
      "metadata": {
        "id": "_KXvsyA8Y6QS"
      },
      "source": [
        "## Kmeans Ploting in 2D"
      ]
    },
    {
      "cell_type": "code",
      "metadata": {
        "colab": {
          "base_uri": "https://localhost:8080/",
          "height": 285
        },
        "id": "-b5wuM3LY6QT",
        "outputId": "0e8fa492-3e4f-4cfd-a5b6-93e4bc54aed3"
      },
      "source": [
        "# The plotting of the data with the real classes\n",
        "plt.scatter(X_reduced[:, 0], X_reduced[:, 1], c=y, cmap=\"plasma\")"
      ],
      "execution_count": 17,
      "outputs": [
        {
          "output_type": "execute_result",
          "data": {
            "text/plain": [
              "<matplotlib.collections.PathCollection at 0x7f05996f54d0>"
            ]
          },
          "metadata": {
            "tags": []
          },
          "execution_count": 17
        },
        {
          "output_type": "display_data",
          "data": {
            "image/png": "[encoded data removed]",
            "text/plain": [
              "<Figure size 432x288 with 1 Axes>"
            ]
          },
          "metadata": {
            "tags": [],
            "needs_background": "light"
          }
        }
      ]
    },
    {
      "cell_type": "code",
      "metadata": {
        "colab": {
          "base_uri": "https://localhost:8080/",
          "height": 285
        },
        "id": "nFipqHWIY6QU",
        "outputId": "0a6b902f-c9b1-426a-e3be-a5cc958867b2"
      },
      "source": [
        "plt.scatter(X_reduced[:, 0], X_reduced[:, 1], c=y_predict, s=50, cmap=\"plasma\")"
      ],
      "execution_count": 18,
      "outputs": [
        {
          "output_type": "execute_result",
          "data": {
            "text/plain": [
              "<matplotlib.collections.PathCollection at 0x7f0599680d90>"
            ]
          },
          "metadata": {
            "tags": []
          },
          "execution_count": 18
        },
        {
          "output_type": "display_data",
          "data": {
            "image/png": "[encoded data removed]",
            "text/plain": [
              "<Figure size 432x288 with 1 Axes>"
            ]
          },
          "metadata": {
            "tags": [],
            "needs_background": "light"
          }
        }
      ]
    },
    {
      "cell_type": "markdown",
      "metadata": {
        "id": "XyRWhTZvY6QV"
      },
      "source": [
        "## Get the optimum number of nerouns SOM\n",
        "#### Using Elbow WCSS"
      ]
    },
    {
      "cell_type": "code",
      "metadata": {
        "colab": {
          "base_uri": "https://localhost:8080/",
          "height": 315
        },
        "id": "3YCBJsb5Y6QV",
        "outputId": "6b3b09e8-4e9c-4b82-87d7-b9c0dd7e4c90"
      },
      "source": [
        "# get the best K\n",
        "wcss = []\n",
        "dim = X.shape[1]\n",
        "for i in range(2, 31):\n",
        "    som = SOM(m=i, n=1, dim=dim)\n",
        "    som.fit(X)\n",
        "    wcss.append(som.inertia_)\n",
        "# End of for\n",
        "\n",
        "plt.plot(range(2, 31), wcss)\n",
        "plt.title('The Elbow Method')\n",
        "plt.xlabel('Number of nurouns')\n",
        "plt.ylabel('WCSS')"
      ],
      "execution_count": 19,
      "outputs": [
        {
          "output_type": "execute_result",
          "data": {
            "text/plain": [
              "Text(0, 0.5, 'WCSS')"
            ]
          },
          "metadata": {
            "tags": []
          },
          "execution_count": 19
        },
        {
          "output_type": "display_data",
          "data": {
            "image/png": "[encoded data removed]",
            "text/plain": [
              "<Figure size 432x288 with 1 Axes>"
            ]
          },
          "metadata": {
            "tags": [],
            "needs_background": "light"
          }
        }
      ]
    },
    {
      "cell_type": "code",
      "metadata": {
        "colab": {
          "base_uri": "https://localhost:8080/",
          "height": 305
        },
        "id": "YNjs4db6Y6QW",
        "outputId": "67d2b90e-beb4-4be0-87a0-97d8ac1fe439"
      },
      "source": [
        "dim = X.shape[1]\n",
        "poki_som = SOM(m=6, n=1, dim=dim)\n",
        "poki_som.fit(X)\n",
        "y_predict = poki_som.predict(X)\n",
        "y_clusters = getTrueLabel(y_predict, y)\n",
        "plt.scatter(X_reduced[:, 0], X_reduced[:, 1], c=y_predict, cmap=\"plasma\")\n",
        "print(\"Silhouette Coefficient:\", metrics.silhouette_score(X, y_predict))\n",
        "print(\"Accuracy:\", metrics.accuracy_score(y_clusters, y))"
      ],
      "execution_count": 20,
      "outputs": [
        {
          "output_type": "stream",
          "text": [
            "Silhouette Coefficient: 0.8673203010307191\n",
            "Accuracy: 0.25\n"
          ],
          "name": "stdout"
        },
        {
          "output_type": "display_data",
          "data": {
            "image/png": "[encoded data removed]",
            "text/plain": [
              "<Figure size 432x288 with 1 Axes>"
            ]
          },
          "metadata": {
            "tags": [],
            "needs_background": "light"
          }
        }
      ]
    },
    {
      "cell_type": "markdown",
      "metadata": {
        "id": "n8gKI0C4Y6QX"
      },
      "source": [
        "#### Using Elbow Silhouette & Accuracy"
      ]
    },
    {
      "cell_type": "code",
      "metadata": {
        "colab": {
          "base_uri": "https://localhost:8080/",
          "height": 416
        },
        "id": "gU8mv_X6Y6QX",
        "outputId": "3c2fcc1c-4bab-4661-ced9-7743b65eddda"
      },
      "source": [
        "# get the best K\n",
        "silhouette_scores = []\n",
        "accuracy_scores = []\n",
        "dim = X.shape[1]\n",
        "for i in range(2, 31):\n",
        "    som = SOM(m=i, n=1, dim=dim)\n",
        "    som.fit(X)\n",
        "    y_pred = som.predict(X)\n",
        "    y_clusters = getTrueLabel(y_pred, y)\n",
        "    val_sil = metrics.silhouette_score(X, y_pred)\n",
        "    val_acc = metrics.accuracy_score(y_clusters, y)\n",
        "    silhouette_scores.append(val_sil)\n",
        "    accuracy_scores.append(val_acc)\n",
        "# End of for\n",
        "\n",
        "plt.plot(range(2, 31), silhouette_scores, label=\"silhouette\")\n",
        "plt.plot(range(2, 31), accuracy_scores, label=\"accuracy\")\n",
        "plt.title('The Silhouette plot')\n",
        "plt.xlabel('Number of nurouns')\n",
        "plt.ylabel('Accuracy and Silhouette Scores')\n",
        "plt.legend()\n",
        "best_n_acc = np.argmax(accuracy_scores)\n",
        "best_n_sil = np.argmax(silhouette_scores)\n",
        "print('best (accuracy) kn =', best_n_acc)\n",
        "print('best (silhouette) kn =', best_n_sil)"
      ],
      "execution_count": 40,
      "outputs": [
        {
          "output_type": "stream",
          "text": [
            "best (accuracy) kn = 17\n",
            "best (silhouette) kn = 14\n"
          ],
          "name": "stdout"
        },
        {
          "output_type": "display_data",
          "data": {
            "image/png": "[encoded data removed]",
            "text/plain": [
              "<Figure size 576x396 with 1 Axes>"
            ]
          },
          "metadata": {
            "tags": []
          }
        }
      ]
    },
    {
      "cell_type": "code",
      "metadata": {
        "colab": {
          "base_uri": "https://localhost:8080/",
          "height": 305
        },
        "id": "fx9F6AOwY6QY",
        "outputId": "7cab5b0d-d063-44fd-802a-6d05ad1b8624"
      },
      "source": [
        "dim = X.shape[1]\n",
        "poki_som = SOM(m=best_n_sil, n=1, dim=dim)\n",
        "poki_som.fit(X)\n",
        "y_predict = poki_som.predict(X)\n",
        "y_clusters = getTrueLabel(y_predict, y)\n",
        "plt.scatter(X_reduced[:, 0], X_reduced[:, 1], c=y_predict, cmap=\"plasma\")\n",
        "print(\"Silhouette Coefficient:\", metrics.silhouette_score(X, y_predict))\n",
        "print(\"Accuracy:\", metrics.accuracy_score(y_clusters, y))"
      ],
      "execution_count": 22,
      "outputs": [
        {
          "output_type": "stream",
          "text": [
            "Silhouette Coefficient: 0.9744251560548564\n",
            "Accuracy: 0.27166666666666667\n"
          ],
          "name": "stdout"
        },
        {
          "output_type": "display_data",
          "data": {
            "image/png": "[encoded data removed]",
            "text/plain": [
              "<Figure size 432x288 with 1 Axes>"
            ]
          },
          "metadata": {
            "tags": [],
            "needs_background": "light"
          }
        }
      ]
    },
    {
      "cell_type": "markdown",
      "metadata": {
        "id": "LCSBUChSY6QZ"
      },
      "source": [
        "#### T-SNE Reduced Dimensions with applying SOM "
      ]
    },
    {
      "cell_type": "code",
      "metadata": {
        "colab": {
          "base_uri": "https://localhost:8080/",
          "height": 315
        },
        "id": "QkZrVnapY6Qa",
        "outputId": "28fbb231-6c9d-4869-e65e-c3e9cdd33b42"
      },
      "source": [
        "# get the best K\n",
        "wcss = []\n",
        "dim = X_reduced.shape[1]\n",
        "for i in range(2, 31):\n",
        "    som = SOM(m=i, n=1, dim=dim)\n",
        "    som.fit(X_reduced)\n",
        "    wcss.append(som.inertia_)\n",
        "# End of for\n",
        "\n",
        "plt.plot(range(2, 31), wcss)\n",
        "plt.title('The Elbow Method')\n",
        "plt.xlabel('Number of nurouns')\n",
        "plt.ylabel('WCSS')"
      ],
      "execution_count": 23,
      "outputs": [
        {
          "output_type": "execute_result",
          "data": {
            "text/plain": [
              "Text(0, 0.5, 'WCSS')"
            ]
          },
          "metadata": {
            "tags": []
          },
          "execution_count": 23
        },
        {
          "output_type": "display_data",
          "data": {
            "image/png": "[encoded data removed]",
            "text/plain": [
              "<Figure size 432x288 with 1 Axes>"
            ]
          },
          "metadata": {
            "tags": [],
            "needs_background": "light"
          }
        }
      ]
    },
    {
      "cell_type": "code",
      "metadata": {
        "colab": {
          "base_uri": "https://localhost:8080/",
          "height": 305
        },
        "id": "DYaxWB13Y6Qc",
        "outputId": "611a2680-4305-4fea-cd06-402919a046be"
      },
      "source": [
        "dim = X_reduced.shape[1]\n",
        "poki_som = SOM(m=8, n=1, dim=dim)\n",
        "poki_som.fit(X_reduced)\n",
        "y_predict = poki_som.predict(X_reduced)\n",
        "y_clusters = getTrueLabel(y_predict, y)\n",
        "plt.scatter(X_reduced[:, 0], X_reduced[:, 1], c=y_predict, cmap=\"plasma\")\n",
        "print(\"Silhouette Coefficient:\", metrics.silhouette_score(X_reduced, y_predict))\n",
        "print(\"Accuracy:\", metrics.accuracy_score(y_clusters, y))"
      ],
      "execution_count": 24,
      "outputs": [
        {
          "output_type": "stream",
          "text": [
            "Silhouette Coefficient: 0.63209724\n",
            "Accuracy: 0.235\n"
          ],
          "name": "stdout"
        },
        {
          "output_type": "display_data",
          "data": {
            "image/png": "[encoded data removed]",
            "text/plain": [
              "<Figure size 432x288 with 1 Axes>"
            ]
          },
          "metadata": {
            "tags": [],
            "needs_background": "light"
          }
        }
      ]
    },
    {
      "cell_type": "markdown",
      "metadata": {
        "id": "eD4r3RgjY6Qd"
      },
      "source": [
        "## DBSCAN"
      ]
    },
    {
      "cell_type": "markdown",
      "metadata": {
        "id": "G4qtXt_WY6Qq"
      },
      "source": [
        "### Tuning Phase (DBSCAN)"
      ]
    },
    {
      "cell_type": "code",
      "metadata": {
        "id": "rVSRv1HYY6Qq"
      },
      "source": [
        "def tuneDBSCAN(tune_rate = 0.1):\n",
        "    eps_vals = []\n",
        "    min_points_vals = []\n",
        "    num_clusters = []\n",
        "    eps = tune_rate\n",
        "    for min_p in range(1, 6):\n",
        "        while(eps < min_p):\n",
        "            dbscan = DBSCAN(eps=eps, min_samples = min_p)\n",
        "            y_predict = dbscan.fit_predict(X)\n",
        "            eps_vals.append(eps)\n",
        "            min_points_vals.append(min_p)\n",
        "            num_clusters.append(len(np.unique(y_predict)) - 1)\n",
        "            eps += tune_rate\n",
        "        # End Of while\n",
        "    # End Of For\n",
        "    return np.array(eps_vals), np.array(min_points_vals), np.array(num_clusters)\n",
        "# End Of Func\n",
        "e, p, c = tuneDBSCAN(tune_rate=0.01)"
      ],
      "execution_count": 25,
      "outputs": []
    },
    {
      "cell_type": "code",
      "metadata": {
        "colab": {
          "base_uri": "https://localhost:8080/"
        },
        "id": "BSxih4RtY6Qr",
        "outputId": "9d051e40-7860-4b69-f5de-056037595699"
      },
      "source": [
        "c_9 = np.where(c == 9)[0]\n",
        "c_10 = np.where(c == 10)[0]\n",
        "f_eps = 0\n",
        "f_num_p = 0\n",
        "try: \n",
        "    f_eps = e[c_10[0]]\n",
        "    f_num_p = p[c_10[0]]\n",
        "except:\n",
        "    f_eps = e[c_9[0]]\n",
        "    f_num_p = p[c_9[0]]\n",
        "# End Try\n",
        "print('the nearest paramters to get 10 clusters after tuning:')\n",
        "print('eps=', f_eps)\n",
        "print('min_points=', f_num_p)"
      ],
      "execution_count": 26,
      "outputs": [
        {
          "output_type": "stream",
          "text": [
            "the nearest paramters to get 10 clusters after tuning:\n",
            "eps= 4.90999999999994\n",
            "min_points= 5\n"
          ],
          "name": "stdout"
        }
      ]
    },
    {
      "cell_type": "markdown",
      "metadata": {
        "id": "J1BKyM8aY6Qr"
      },
      "source": [
        "### Tuning Results 3D Plotting"
      ]
    },
    {
      "cell_type": "code",
      "metadata": {
        "colab": {
          "base_uri": "https://localhost:8080/",
          "height": 542
        },
        "id": "jQuQU_dVY6Qs",
        "outputId": "82676512-53d8-4e80-a3ac-003e00d34986"
      },
      "source": [
        "fig = go.Figure(data=[go.Scatter3d(x=e, y=p, z=c)])\n",
        "fig.update_layout(scene = dict(\n",
        "    xaxis_title='Epsilon Values',\n",
        "    yaxis_title='Min Number Of Point Per Cluster',\n",
        "    zaxis_title='Number Of Cluster'),\n",
        "    width=700,\n",
        "    margin=dict(r=20, b=10, l=10, t=10)\n",
        ")\n",
        "fig.show()"
      ],
      "execution_count": 27,
      "outputs": [
        {
          "output_type": "display_data",
          "data": {
            "text/html": [
              "<html>\n",
              "<head><meta charset=\"utf-8\" /></head>\n",
              "<body>\n",
              "    <div>\n",
              "            <script src=\"https://cdnjs.cloudflare.com/ajax/libs/mathjax/2.7.5/MathJax.js?config=TeX-AMS-MML_SVG\"></script><script type=\"text/javascript\">if (window.MathJax) {MathJax.Hub.Config({SVG: {font: \"STIX-Web\"}});}</script>\n",
              "                <script type=\"text/javascript\">window.PlotlyConfig = {MathJaxConfig: 'local'};</script>\n",
              "        <script src=\"https://cdn.plot.ly/plotly-latest.min.js\"></script>    \n",
              "            <div id=\"9a9a4312-0903-4bc7-900a-2c4851a34119\" class=\"plotly-graph-div\" style=\"height:525px; width:700px;\"></div>\n",
              "            <script type=\"text/javascript\">\n",
              "                \n",
              "                    window.PLOTLYENV=window.PLOTLYENV || {};\n",
              "                    \n",
              "                if (document.getElementById(\"9a9a4312-0903-4bc7-900a-2c4851a34119\")) {\n",
              "                    Plotly.newPlot(\n",
              "                        '9a9a4312-0903-4bc7-900a-2c4851a34119',\n",
              "                        [{\"type\": \"scatter3d\", \"x\": [0.01, 0.02, 0.03, 0.04, 0.05, 0.060000000000000005, 0.07, 0.08, 0.09, 0.09999999999999999, 0.10999999999999999, 0.11999999999999998, 0.12999999999999998, 0.13999999999999999, 0.15, 0.16, 0.17, 0.18000000000000002, 0.19000000000000003, 0.20000000000000004, 0.21000000000000005, 0.22000000000000006, 0.23000000000000007, 0.24000000000000007, 0.25000000000000006, 0.26000000000000006, 0.2700000000000001, 0.2800000000000001, 0.2900000000000001, 0.3000000000000001, 0.3100000000000001, 0.3200000000000001, 0.3300000000000001, 0.34000000000000014, 0.35000000000000014, 0.36000000000000015, 0.37000000000000016, 0.38000000000000017, 0.3900000000000002, 0.4000000000000002, 0.4100000000000002, 0.4200000000000002, 0.4300000000000002, 0.4400000000000002, 0.45000000000000023, 0.46000000000000024, 0.47000000000000025, 0.48000000000000026, 0.49000000000000027, 0.5000000000000002, 0.5100000000000002, 0.5200000000000002, 0.5300000000000002, 0.5400000000000003, 0.5500000000000003, 0.5600000000000003, 0.5700000000000003, 0.5800000000000003, 0.5900000000000003, 0.6000000000000003, 0.6100000000000003, 0.6200000000000003, 0.6300000000000003, 0.6400000000000003, 0.6500000000000004, 0.6600000000000004, 0.6700000000000004, 0.6800000000000004, 0.6900000000000004, 0.7000000000000004, 0.7100000000000004, 0.7200000000000004, 0.7300000000000004, 0.7400000000000004, 0.7500000000000004, 0.7600000000000005, 0.7700000000000005, 0.7800000000000005, 0.7900000000000005, 0.8000000000000005, 0.8100000000000005, 0.8200000000000005, 0.8300000000000005, 0.8400000000000005, 0.8500000000000005, 0.8600000000000005, 0.8700000000000006, 0.8800000000000006, 0.8900000000000006, 0.9000000000000006, 0.9100000000000006, 0.9200000000000006, 0.9300000000000006, 0.9400000000000006, 0.9500000000000006, 0.9600000000000006, 0.9700000000000006, 0.9800000000000006, 0.9900000000000007, 1.0000000000000007, 1.0100000000000007, 1.0200000000000007, 1.0300000000000007, 1.0400000000000007, 1.0500000000000007, 1.0600000000000007, 1.0700000000000007, 1.0800000000000007, 1.0900000000000007, 1.1000000000000008, 1.1100000000000008, 1.1200000000000008, 1.1300000000000008, 1.1400000000000008, 1.1500000000000008, 1.1600000000000008, 1.1700000000000008, 1.1800000000000008, 1.1900000000000008, 1.2000000000000008, 1.2100000000000009, 1.2200000000000009, 1.2300000000000009, 1.2400000000000009, 1.2500000000000009, 1.260000000000001, 1.270000000000001, 1.280000000000001, 1.290000000000001, 1.300000000000001, 1.310000000000001, 1.320000000000001, 1.330000000000001, 1.340000000000001, 1.350000000000001, 1.360000000000001, 1.370000000000001, 1.380000000000001, 1.390000000000001, 1.400000000000001, 1.410000000000001, 1.420000000000001, 1.430000000000001, 1.440000000000001, 1.450000000000001, 1.460000000000001, 1.470000000000001, 1.480000000000001, 1.490000000000001, 1.500000000000001, 1.5100000000000011, 1.5200000000000011, 1.5300000000000011, 1.5400000000000011, 1.5500000000000012, 1.5600000000000012, 1.5700000000000012, 1.5800000000000012, 1.5900000000000012, 1.6000000000000012, 1.6100000000000012, 1.6200000000000012, 1.6300000000000012, 1.6400000000000012, 1.6500000000000012, 1.6600000000000013, 1.6700000000000013, 1.6800000000000013, 1.6900000000000013, 1.7000000000000013, 1.7100000000000013, 1.7200000000000013, 1.7300000000000013, 1.7400000000000013, 1.7500000000000013, 1.7600000000000013, 1.7700000000000014, 1.7800000000000014, 1.7900000000000014, 1.8000000000000014, 1.8100000000000014, 1.8200000000000014, 1.8300000000000014, 1.8400000000000014, 1.8500000000000014, 1.8600000000000014, 1.8700000000000014, 1.8800000000000014, 1.8900000000000015, 1.9000000000000015, 1.9100000000000015, 1.9200000000000015, 1.9300000000000015, 1.9400000000000015, 1.9500000000000015, 1.9600000000000015, 1.9700000000000015, 1.9800000000000015, 1.9900000000000015, 2.0000000000000013, 2.010000000000001, 2.020000000000001, 2.0300000000000007, 2.0400000000000005, 2.0500000000000003, 2.06, 2.07, 2.0799999999999996, 2.0899999999999994, 2.099999999999999, 2.109999999999999, 2.1199999999999988, 2.1299999999999986, 2.1399999999999983, 2.149999999999998, 2.159999999999998, 2.1699999999999977, 2.1799999999999975, 2.1899999999999973, 2.199999999999997, 2.209999999999997, 2.2199999999999966, 2.2299999999999964, 2.239999999999996, 2.249999999999996, 2.259999999999996, 2.2699999999999956, 2.2799999999999954, 2.289999999999995, 2.299999999999995, 2.3099999999999947, 2.3199999999999945, 2.3299999999999943, 2.339999999999994, 2.349999999999994, 2.3599999999999937, 2.3699999999999934, 2.3799999999999932, 2.389999999999993, 2.399999999999993, 2.4099999999999926, 2.4199999999999924, 2.429999999999992, 2.439999999999992, 2.4499999999999917, 2.4599999999999915, 2.4699999999999913, 2.479999999999991, 2.489999999999991, 2.4999999999999907, 2.5099999999999905, 2.5199999999999902, 2.52999999999999, 2.53999999999999, 2.5499999999999896, 2.5599999999999894, 2.569999999999989, 2.579999999999989, 2.5899999999999888, 2.5999999999999885, 2.6099999999999883, 2.619999999999988, 2.629999999999988, 2.6399999999999877, 2.6499999999999875, 2.6599999999999873, 2.669999999999987, 2.679999999999987, 2.6899999999999866, 2.6999999999999864, 2.709999999999986, 2.719999999999986, 2.7299999999999858, 2.7399999999999856, 2.7499999999999853, 2.759999999999985, 2.769999999999985, 2.7799999999999847, 2.7899999999999845, 2.7999999999999843, 2.809999999999984, 2.819999999999984, 2.8299999999999836, 2.8399999999999834, 2.849999999999983, 2.859999999999983, 2.869999999999983, 2.8799999999999826, 2.8899999999999824, 2.899999999999982, 2.909999999999982, 2.9199999999999817, 2.9299999999999815, 2.9399999999999813, 2.949999999999981, 2.959999999999981, 2.9699999999999807, 2.9799999999999804, 2.9899999999999802, 2.99999999999998, 3.00999999999998, 3.0199999999999796, 3.0299999999999794, 3.039999999999979, 3.049999999999979, 3.0599999999999787, 3.0699999999999785, 3.0799999999999783, 3.089999999999978, 3.099999999999978, 3.1099999999999777, 3.1199999999999775, 3.1299999999999772, 3.139999999999977, 3.149999999999977, 3.1599999999999766, 3.1699999999999764, 3.179999999999976, 3.189999999999976, 3.1999999999999758, 3.2099999999999755, 3.2199999999999753, 3.229999999999975, 3.239999999999975, 3.2499999999999747, 3.2599999999999745, 3.2699999999999743, 3.279999999999974, 3.289999999999974, 3.2999999999999736, 3.3099999999999734, 3.319999999999973, 3.329999999999973, 3.3399999999999728, 3.3499999999999726, 3.3599999999999723, 3.369999999999972, 3.379999999999972, 3.3899999999999717, 3.3999999999999715, 3.4099999999999713, 3.419999999999971, 3.429999999999971, 3.4399999999999706, 3.4499999999999704, 3.45999999999997, 3.46999999999997, 3.47999999999997, 3.4899999999999696, 3.4999999999999694, 3.509999999999969, 3.519999999999969, 3.5299999999999687, 3.5399999999999685, 3.5499999999999683, 3.559999999999968, 3.569999999999968, 3.5799999999999677, 3.5899999999999674, 3.5999999999999672, 3.609999999999967, 3.619999999999967, 3.6299999999999666, 3.6399999999999664, 3.649999999999966, 3.659999999999966, 3.6699999999999657, 3.6799999999999655, 3.6899999999999653, 3.699999999999965, 3.709999999999965, 3.7199999999999647, 3.7299999999999645, 3.7399999999999642, 3.749999999999964, 3.759999999999964, 3.7699999999999636, 3.7799999999999634, 3.789999999999963, 3.799999999999963, 3.8099999999999627, 3.8199999999999625, 3.8299999999999623, 3.839999999999962, 3.849999999999962, 3.8599999999999617, 3.8699999999999615, 3.8799999999999613, 3.889999999999961, 3.899999999999961, 3.9099999999999606, 3.9199999999999604, 3.92999999999996, 3.93999999999996, 3.9499999999999598, 3.9599999999999596, 3.9699999999999593, 3.979999999999959, 3.989999999999959, 3.9999999999999587, 4.009999999999959, 4.019999999999959, 4.0299999999999585, 4.039999999999958, 4.049999999999958, 4.059999999999958, 4.069999999999958, 4.079999999999957, 4.089999999999957, 4.099999999999957, 4.109999999999957, 4.119999999999957, 4.129999999999956, 4.139999999999956, 4.149999999999956, 4.159999999999956, 4.1699999999999555, 4.179999999999955, 4.189999999999955, 4.199999999999955, 4.209999999999955, 4.2199999999999545, 4.229999999999954, 4.239999999999954, 4.249999999999954, 4.259999999999954, 4.269999999999953, 4.279999999999953, 4.289999999999953, 4.299999999999953, 4.3099999999999525, 4.319999999999952, 4.329999999999952, 4.339999999999952, 4.349999999999952, 4.3599999999999515, 4.369999999999951, 4.379999999999951, 4.389999999999951, 4.399999999999951, 4.40999999999995, 4.41999999999995, 4.42999999999995, 4.43999999999995, 4.4499999999999496, 4.459999999999949, 4.469999999999949, 4.479999999999949, 4.489999999999949, 4.4999999999999485, 4.509999999999948, 4.519999999999948, 4.529999999999948, 4.539999999999948, 4.549999999999947, 4.559999999999947, 4.569999999999947, 4.579999999999947, 4.589999999999947, 4.599999999999946, 4.609999999999946, 4.619999999999946, 4.629999999999946, 4.6399999999999455, 4.649999999999945, 4.659999999999945, 4.669999999999945, 4.679999999999945, 4.689999999999944, 4.699999999999944, 4.709999999999944, 4.719999999999944, 4.729999999999944, 4.739999999999943, 4.749999999999943, 4.759999999999943, 4.769999999999943, 4.7799999999999425, 4.789999999999942, 4.799999999999942, 4.809999999999942, 4.819999999999942, 4.8299999999999415, 4.839999999999941, 4.849999999999941, 4.859999999999941, 4.869999999999941, 4.87999999999994, 4.88999999999994, 4.89999999999994, 4.90999999999994, 4.9199999999999395, 4.929999999999939, 4.939999999999939, 4.949999999999939, 4.959999999999939, 4.9699999999999385, 4.979999999999938, 4.989999999999938, 4.999999999999938], \"y\": [1, 1, 1, 1, 1, 1, 1, 1, 1, 1, 1, 1, 1, 1, 1, 1, 1, 1, 1, 1, 1, 1, 1, 1, 1, 1, 1, 1, 1, 1, 1, 1, 1, 1, 1, 1, 1, 1, 1, 1, 1, 1, 1, 1, 1, 1, 1, 1, 1, 1, 1, 1, 1, 1, 1, 1, 1, 1, 1, 1, 1, 1, 1, 1, 1, 1, 1, 1, 1, 1, 1, 1, 1, 1, 1, 1, 1, 1, 1, 1, 1, 1, 1, 1, 1, 1, 1, 1, 1, 1, 1, 1, 1, 1, 1, 1, 1, 1, 1, 2, 2, 2, 2, 2, 2, 2, 2, 2, 2, 2, 2, 2, 2, 2, 2, 2, 2, 2, 2, 2, 2, 2, 2, 2, 2, 2, 2, 2, 2, 2, 2, 2, 2, 2, 2, 2, 2, 2, 2, 2, 2, 2, 2, 2, 2, 2, 2, 2, 2, 2, 2, 2, 2, 2, 2, 2, 2, 2, 2, 2, 2, 2, 2, 2, 2, 2, 2, 2, 2, 2, 2, 2, 2, 2, 2, 2, 2, 2, 2, 2, 2, 2, 2, 2, 2, 2, 2, 2, 2, 2, 2, 2, 2, 2, 2, 2, 2, 2, 2, 3, 3, 3, 3, 3, 3, 3, 3, 3, 3, 3, 3, 3, 3, 3, 3, 3, 3, 3, 3, 3, 3, 3, 3, 3, 3, 3, 3, 3, 3, 3, 3, 3, 3, 3, 3, 3, 3, 3, 3, 3, 3, 3, 3, 3, 3, 3, 3, 3, 3, 3, 3, 3, 3, 3, 3, 3, 3, 3, 3, 3, 3, 3, 3, 3, 3, 3, 3, 3, 3, 3, 3, 3, 3, 3, 3, 3, 3, 3, 3, 3, 3, 3, 3, 3, 3, 3, 3, 3, 3, 3, 3, 3, 3, 3, 3, 3, 3, 3, 3, 3, 4, 4, 4, 4, 4, 4, 4, 4, 4, 4, 4, 4, 4, 4, 4, 4, 4, 4, 4, 4, 4, 4, 4, 4, 4, 4, 4, 4, 4, 4, 4, 4, 4, 4, 4, 4, 4, 4, 4, 4, 4, 4, 4, 4, 4, 4, 4, 4, 4, 4, 4, 4, 4, 4, 4, 4, 4, 4, 4, 4, 4, 4, 4, 4, 4, 4, 4, 4, 4, 4, 4, 4, 4, 4, 4, 4, 4, 4, 4, 4, 4, 4, 4, 4, 4, 4, 4, 4, 4, 4, 4, 4, 4, 4, 4, 4, 4, 4, 4, 4, 5, 5, 5, 5, 5, 5, 5, 5, 5, 5, 5, 5, 5, 5, 5, 5, 5, 5, 5, 5, 5, 5, 5, 5, 5, 5, 5, 5, 5, 5, 5, 5, 5, 5, 5, 5, 5, 5, 5, 5, 5, 5, 5, 5, 5, 5, 5, 5, 5, 5, 5, 5, 5, 5, 5, 5, 5, 5, 5, 5, 5, 5, 5, 5, 5, 5, 5, 5, 5, 5, 5, 5, 5, 5, 5, 5, 5, 5, 5, 5, 5, 5, 5, 5, 5, 5, 5, 5, 5, 5, 5, 5, 5, 5, 5, 5, 5, 5, 5, 5], \"z\": [543, 543, 543, 543, 543, 543, 543, 543, 543, 543, 543, 543, 543, 543, 543, 543, 543, 543, 543, 543, 543, 543, 543, 543, 543, 543, 543, 543, 543, 543, 543, 543, 543, 543, 543, 543, 543, 543, 543, 543, 543, 543, 543, 543, 543, 543, 543, 543, 543, 543, 543, 543, 543, 543, 543, 543, 543, 543, 543, 543, 543, 543, 543, 543, 543, 543, 543, 543, 543, 543, 543, 543, 543, 543, 543, 543, 543, 543, 543, 543, 543, 543, 543, 543, 543, 543, 543, 543, 543, 543, 543, 543, 543, 543, 543, 543, 543, 543, 543, 49, 49, 49, 49, 49, 49, 49, 49, 49, 49, 49, 49, 52, 52, 52, 52, 52, 52, 52, 52, 52, 52, 52, 52, 52, 52, 52, 52, 52, 52, 52, 52, 52, 52, 52, 52, 52, 52, 52, 52, 52, 52, 53, 53, 53, 53, 56, 56, 56, 56, 56, 56, 56, 56, 56, 57, 57, 57, 57, 57, 57, 60, 60, 60, 60, 60, 61, 61, 61, 61, 61, 61, 61, 61, 67, 69, 69, 69, 69, 72, 72, 72, 72, 72, 71, 71, 71, 71, 71, 71, 71, 71, 71, 71, 68, 68, 70, 70, 70, 70, 41, 41, 41, 41, 38, 38, 38, 38, 38, 38, 38, 38, 38, 41, 41, 41, 41, 41, 40, 40, 37, 37, 37, 37, 35, 35, 38, 38, 38, 38, 37, 37, 37, 37, 37, 33, 34, 34, 34, 34, 35, 35, 35, 35, 35, 34, 34, 36, 36, 36, 36, 36, 36, 36, 36, 37, 37, 37, 37, 37, 36, 36, 38, 38, 38, 36, 36, 36, 36, 36, 36, 37, 37, 37, 33, 33, 32, 32, 32, 33, 31, 31, 31, 31, 31, 31, 31, 31, 30, 30, 30, 30, 32, 31, 31, 31, 32, 32, 32, 32, 32, 18, 18, 18, 18, 18, 18, 19, 19, 19, 19, 19, 19, 19, 18, 18, 18, 19, 19, 19, 19, 19, 20, 20, 20, 20, 20, 20, 19, 19, 19, 19, 20, 20, 19, 19, 19, 19, 19, 19, 19, 18, 18, 18, 18, 18, 18, 18, 18, 18, 18, 18, 18, 18, 18, 18, 18, 18, 18, 18, 18, 18, 18, 18, 18, 17, 17, 17, 17, 17, 17, 17, 17, 17, 17, 17, 17, 17, 17, 17, 17, 17, 16, 16, 16, 16, 16, 16, 16, 15, 15, 16, 17, 17, 17, 17, 17, 17, 17, 17, 17, 11, 11, 11, 11, 11, 11, 12, 12, 12, 12, 12, 12, 12, 12, 12, 12, 12, 12, 12, 12, 12, 12, 12, 12, 12, 12, 12, 12, 12, 12, 12, 12, 12, 12, 12, 12, 12, 12, 12, 12, 12, 12, 12, 12, 12, 12, 12, 12, 12, 12, 12, 12, 12, 12, 12, 12, 12, 12, 12, 12, 12, 12, 12, 12, 12, 12, 12, 12, 12, 12, 12, 12, 12, 12, 12, 12, 12, 12, 12, 12, 12, 12, 12, 12, 11, 11, 11, 11, 11, 11, 10, 10, 11, 11, 11, 11, 11, 11, 11, 11]}],\n",
              "                        {\"margin\": {\"b\": 10, \"l\": 10, \"r\": 20, \"t\": 10}, \"scene\": {\"xaxis\": {\"title\": {\"text\": \"Epsilon Values\"}}, \"yaxis\": {\"title\": {\"text\": \"Min Number Of Point Per Cluster\"}}, \"zaxis\": {\"title\": {\"text\": \"Number Of Cluster\"}}}, \"template\": {\"data\": {\"bar\": [{\"error_x\": {\"color\": \"#2a3f5f\"}, \"error_y\": {\"color\": \"#2a3f5f\"}, \"marker\": {\"line\": {\"color\": \"#E5ECF6\", \"width\": 0.5}}, \"type\": \"bar\"}], \"barpolar\": [{\"marker\": {\"line\": {\"color\": \"#E5ECF6\", \"width\": 0.5}}, \"type\": \"barpolar\"}], \"carpet\": [{\"aaxis\": {\"endlinecolor\": \"#2a3f5f\", \"gridcolor\": \"white\", \"linecolor\": \"white\", \"minorgridcolor\": \"white\", \"startlinecolor\": \"#2a3f5f\"}, \"baxis\": {\"endlinecolor\": \"#2a3f5f\", \"gridcolor\": \"white\", \"linecolor\": \"white\", \"minorgridcolor\": \"white\", \"startlinecolor\": \"#2a3f5f\"}, \"type\": \"carpet\"}], \"choropleth\": [{\"colorbar\": {\"outlinewidth\": 0, \"ticks\": \"\"}, \"type\": \"choropleth\"}], \"contour\": [{\"colorbar\": {\"outlinewidth\": 0, \"ticks\": \"\"}, \"colorscale\": [[0.0, \"#0d0887\"], [0.1111111111111111, \"#46039f\"], [0.2222222222222222, \"#7201a8\"], [0.3333333333333333, \"#9c179e\"], [0.4444444444444444, \"#bd3786\"], [0.5555555555555556, \"#d8576b\"], [0.6666666666666666, \"#ed7953\"], [0.7777777777777778, \"#fb9f3a\"], [0.8888888888888888, \"#fdca26\"], [1.0, \"#f0f921\"]], \"type\": \"contour\"}], \"contourcarpet\": [{\"colorbar\": {\"outlinewidth\": 0, \"ticks\": \"\"}, \"type\": \"contourcarpet\"}], \"heatmap\": [{\"colorbar\": {\"outlinewidth\": 0, \"ticks\": \"\"}, \"colorscale\": [[0.0, \"#0d0887\"], [0.1111111111111111, \"#46039f\"], [0.2222222222222222, \"#7201a8\"], [0.3333333333333333, \"#9c179e\"], [0.4444444444444444, \"#bd3786\"], [0.5555555555555556, \"#d8576b\"], [0.6666666666666666, \"#ed7953\"], [0.7777777777777778, \"#fb9f3a\"], [0.8888888888888888, \"#fdca26\"], [1.0, \"#f0f921\"]], \"type\": \"heatmap\"}], \"heatmapgl\": [{\"colorbar\": {\"outlinewidth\": 0, \"ticks\": \"\"}, \"colorscale\": [[0.0, \"#0d0887\"], [0.1111111111111111, \"#46039f\"], [0.2222222222222222, \"#7201a8\"], [0.3333333333333333, \"#9c179e\"], [0.4444444444444444, \"#bd3786\"], [0.5555555555555556, \"#d8576b\"], [0.6666666666666666, \"#ed7953\"], [0.7777777777777778, \"#fb9f3a\"], [0.8888888888888888, \"#fdca26\"], [1.0, \"#f0f921\"]], \"type\": \"heatmapgl\"}], \"histogram\": [{\"marker\": {\"colorbar\": {\"outlinewidth\": 0, \"ticks\": \"\"}}, \"type\": \"histogram\"}], \"histogram2d\": [{\"colorbar\": {\"outlinewidth\": 0, \"ticks\": \"\"}, \"colorscale\": [[0.0, \"#0d0887\"], [0.1111111111111111, \"#46039f\"], [0.2222222222222222, \"#7201a8\"], [0.3333333333333333, \"#9c179e\"], [0.4444444444444444, \"#bd3786\"], [0.5555555555555556, \"#d8576b\"], [0.6666666666666666, \"#ed7953\"], [0.7777777777777778, \"#fb9f3a\"], [0.8888888888888888, \"#fdca26\"], [1.0, \"#f0f921\"]], \"type\": \"histogram2d\"}], \"histogram2dcontour\": [{\"colorbar\": {\"outlinewidth\": 0, \"ticks\": \"\"}, \"colorscale\": [[0.0, \"#0d0887\"], [0.1111111111111111, \"#46039f\"], [0.2222222222222222, \"#7201a8\"], [0.3333333333333333, \"#9c179e\"], [0.4444444444444444, \"#bd3786\"], [0.5555555555555556, \"#d8576b\"], [0.6666666666666666, \"#ed7953\"], [0.7777777777777778, \"#fb9f3a\"], [0.8888888888888888, \"#fdca26\"], [1.0, \"#f0f921\"]], \"type\": \"histogram2dcontour\"}], \"mesh3d\": [{\"colorbar\": {\"outlinewidth\": 0, \"ticks\": \"\"}, \"type\": \"mesh3d\"}], \"parcoords\": [{\"line\": {\"colorbar\": {\"outlinewidth\": 0, \"ticks\": \"\"}}, \"type\": \"parcoords\"}], \"pie\": [{\"automargin\": true, \"type\": \"pie\"}], \"scatter\": [{\"marker\": {\"colorbar\": {\"outlinewidth\": 0, \"ticks\": \"\"}}, \"type\": \"scatter\"}], \"scatter3d\": [{\"line\": {\"colorbar\": {\"outlinewidth\": 0, \"ticks\": \"\"}}, \"marker\": {\"colorbar\": {\"outlinewidth\": 0, \"ticks\": \"\"}}, \"type\": \"scatter3d\"}], \"scattercarpet\": [{\"marker\": {\"colorbar\": {\"outlinewidth\": 0, \"ticks\": \"\"}}, \"type\": \"scattercarpet\"}], \"scattergeo\": [{\"marker\": {\"colorbar\": {\"outlinewidth\": 0, \"ticks\": \"\"}}, \"type\": \"scattergeo\"}], \"scattergl\": [{\"marker\": {\"colorbar\": {\"outlinewidth\": 0, \"ticks\": \"\"}}, \"type\": \"scattergl\"}], \"scattermapbox\": [{\"marker\": {\"colorbar\": {\"outlinewidth\": 0, \"ticks\": \"\"}}, \"type\": \"scattermapbox\"}], \"scatterpolar\": [{\"marker\": {\"colorbar\": {\"outlinewidth\": 0, \"ticks\": \"\"}}, \"type\": \"scatterpolar\"}], \"scatterpolargl\": [{\"marker\": {\"colorbar\": {\"outlinewidth\": 0, \"ticks\": \"\"}}, \"type\": \"scatterpolargl\"}], \"scatterternary\": [{\"marker\": {\"colorbar\": {\"outlinewidth\": 0, \"ticks\": \"\"}}, \"type\": \"scatterternary\"}], \"surface\": [{\"colorbar\": {\"outlinewidth\": 0, \"ticks\": \"\"}, \"colorscale\": [[0.0, \"#0d0887\"], [0.1111111111111111, \"#46039f\"], [0.2222222222222222, \"#7201a8\"], [0.3333333333333333, \"#9c179e\"], [0.4444444444444444, \"#bd3786\"], [0.5555555555555556, \"#d8576b\"], [0.6666666666666666, \"#ed7953\"], [0.7777777777777778, \"#fb9f3a\"], [0.8888888888888888, \"#fdca26\"], [1.0, \"#f0f921\"]], \"type\": \"surface\"}], \"table\": [{\"cells\": {\"fill\": {\"color\": \"#EBF0F8\"}, \"line\": {\"color\": \"white\"}}, \"header\": {\"fill\": {\"color\": \"#C8D4E3\"}, \"line\": {\"color\": \"white\"}}, \"type\": \"table\"}]}, \"layout\": {\"annotationdefaults\": {\"arrowcolor\": \"#2a3f5f\", \"arrowhead\": 0, \"arrowwidth\": 1}, \"coloraxis\": {\"colorbar\": {\"outlinewidth\": 0, \"ticks\": \"\"}}, \"colorscale\": {\"diverging\": [[0, \"#8e0152\"], [0.1, \"#c51b7d\"], [0.2, \"#de77ae\"], [0.3, \"#f1b6da\"], [0.4, \"#fde0ef\"], [0.5, \"#f7f7f7\"], [0.6, \"#e6f5d0\"], [0.7, \"#b8e186\"], [0.8, \"#7fbc41\"], [0.9, \"#4d9221\"], [1, \"#276419\"]], \"sequential\": [[0.0, \"#0d0887\"], [0.1111111111111111, \"#46039f\"], [0.2222222222222222, \"#7201a8\"], [0.3333333333333333, \"#9c179e\"], [0.4444444444444444, \"#bd3786\"], [0.5555555555555556, \"#d8576b\"], [0.6666666666666666, \"#ed7953\"], [0.7777777777777778, \"#fb9f3a\"], [0.8888888888888888, \"#fdca26\"], [1.0, \"#f0f921\"]], \"sequentialminus\": [[0.0, \"#0d0887\"], [0.1111111111111111, \"#46039f\"], [0.2222222222222222, \"#7201a8\"], [0.3333333333333333, \"#9c179e\"], [0.4444444444444444, \"#bd3786\"], [0.5555555555555556, \"#d8576b\"], [0.6666666666666666, \"#ed7953\"], [0.7777777777777778, \"#fb9f3a\"], [0.8888888888888888, \"#fdca26\"], [1.0, \"#f0f921\"]]}, \"colorway\": [\"#636efa\", \"#EF553B\", \"#00cc96\", \"#ab63fa\", \"#FFA15A\", \"#19d3f3\", \"#FF6692\", \"#B6E880\", \"#FF97FF\", \"#FECB52\"], \"font\": {\"color\": \"#2a3f5f\"}, \"geo\": {\"bgcolor\": \"white\", \"lakecolor\": \"white\", \"landcolor\": \"#E5ECF6\", \"showlakes\": true, \"showland\": true, \"subunitcolor\": \"white\"}, \"hoverlabel\": {\"align\": \"left\"}, \"hovermode\": \"closest\", \"mapbox\": {\"style\": \"light\"}, \"paper_bgcolor\": \"white\", \"plot_bgcolor\": \"#E5ECF6\", \"polar\": {\"angularaxis\": {\"gridcolor\": \"white\", \"linecolor\": \"white\", \"ticks\": \"\"}, \"bgcolor\": \"#E5ECF6\", \"radialaxis\": {\"gridcolor\": \"white\", \"linecolor\": \"white\", \"ticks\": \"\"}}, \"scene\": {\"xaxis\": {\"backgroundcolor\": \"#E5ECF6\", \"gridcolor\": \"white\", \"gridwidth\": 2, \"linecolor\": \"white\", \"showbackground\": true, \"ticks\": \"\", \"zerolinecolor\": \"white\"}, \"yaxis\": {\"backgroundcolor\": \"#E5ECF6\", \"gridcolor\": \"white\", \"gridwidth\": 2, \"linecolor\": \"white\", \"showbackground\": true, \"ticks\": \"\", \"zerolinecolor\": \"white\"}, \"zaxis\": {\"backgroundcolor\": \"#E5ECF6\", \"gridcolor\": \"white\", \"gridwidth\": 2, \"linecolor\": \"white\", \"showbackground\": true, \"ticks\": \"\", \"zerolinecolor\": \"white\"}}, \"shapedefaults\": {\"line\": {\"color\": \"#2a3f5f\"}}, \"ternary\": {\"aaxis\": {\"gridcolor\": \"white\", \"linecolor\": \"white\", \"ticks\": \"\"}, \"baxis\": {\"gridcolor\": \"white\", \"linecolor\": \"white\", \"ticks\": \"\"}, \"bgcolor\": \"#E5ECF6\", \"caxis\": {\"gridcolor\": \"white\", \"linecolor\": \"white\", \"ticks\": \"\"}}, \"title\": {\"x\": 0.05}, \"xaxis\": {\"automargin\": true, \"gridcolor\": \"white\", \"linecolor\": \"white\", \"ticks\": \"\", \"title\": {\"standoff\": 15}, \"zerolinecolor\": \"white\", \"zerolinewidth\": 2}, \"yaxis\": {\"automargin\": true, \"gridcolor\": \"white\", \"linecolor\": \"white\", \"ticks\": \"\", \"title\": {\"standoff\": 15}, \"zerolinecolor\": \"white\", \"zerolinewidth\": 2}}}, \"width\": 700},\n",
              "                        {\"responsive\": true}\n",
              "                    ).then(function(){\n",
              "                            \n",
              "var gd = document.getElementById('9a9a4312-0903-4bc7-900a-2c4851a34119');\n",
              "var x = new MutationObserver(function (mutations, observer) {{\n",
              "        var display = window.getComputedStyle(gd).display;\n",
              "        if (!display || display === 'none') {{\n",
              "            console.log([gd, 'removed!']);\n",
              "            Plotly.purge(gd);\n",
              "            observer.disconnect();\n",
              "        }}\n",
              "}});\n",
              "\n",
              "// Listen for the removal of the full notebook cells\n",
              "var notebookContainer = gd.closest('#notebook-container');\n",
              "if (notebookContainer) {{\n",
              "    x.observe(notebookContainer, {childList: true});\n",
              "}}\n",
              "\n",
              "// Listen for the clearing of the current output cell\n",
              "var outputEl = gd.closest('.output');\n",
              "if (outputEl) {{\n",
              "    x.observe(outputEl, {childList: true});\n",
              "}}\n",
              "\n",
              "                        })\n",
              "                };\n",
              "                \n",
              "            </script>\n",
              "        </div>\n",
              "</body>\n",
              "</html>"
            ]
          },
          "metadata": {
            "tags": []
          }
        }
      ]
    },
    {
      "cell_type": "markdown",
      "metadata": {
        "id": "xZDyWy9zY6Qy"
      },
      "source": [
        "### Modeling Phase (DBSCAN)"
      ]
    },
    {
      "cell_type": "code",
      "metadata": {
        "colab": {
          "base_uri": "https://localhost:8080/",
          "height": 326
        },
        "id": "jJ4ohQ1-Y6Qz",
        "outputId": "c9153a57-7293-4b70-f292-94820467692d"
      },
      "source": [
        "dbscan = DBSCAN(eps = f_eps, min_samples = f_num_p)\n",
        "y_predict = dbscan.fit_predict(X)\n",
        "y_clusters = getTrueLabel(y_predict, y)\n",
        "print(\"Silhouette Coefficient:\", metrics.silhouette_score(X, y_predict))\n",
        "print(\"Accuracy:\", metrics.accuracy_score(y_clusters, y))\n",
        "plt.scatter(X_reduced[:, 0], X_reduced[:, 1], c=y_predict, cmap=\"plasma\")"
      ],
      "execution_count": 28,
      "outputs": [
        {
          "output_type": "stream",
          "text": [
            "Silhouette Coefficient: 0.06272461850083305\n",
            "Accuracy: 0.23166666666666666\n"
          ],
          "name": "stdout"
        },
        {
          "output_type": "execute_result",
          "data": {
            "text/plain": [
              "<matplotlib.collections.PathCollection at 0x7f05981211d0>"
            ]
          },
          "metadata": {
            "tags": []
          },
          "execution_count": 28
        },
        {
          "output_type": "display_data",
          "data": {
            "image/png": "[encoded data removed]",
            "text/plain": [
              "<Figure size 432x288 with 1 Axes>"
            ]
          },
          "metadata": {
            "tags": [],
            "needs_background": "light"
          }
        }
      ]
    }
  ]
}